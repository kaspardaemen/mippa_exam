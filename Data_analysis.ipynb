{
 "cells": [
  {
   "cell_type": "code",
   "execution_count": 2,
   "metadata": {},
   "outputs": [],
   "source": [
    "import numpy as np\n",
    "import pandas as pd\n",
    "import matplotlib.pyplot as plt\n",
    "import seaborn as sb\n",
    "sb.set()"
   ]
  },
  {
   "cell_type": "code",
   "execution_count": 4,
   "metadata": {},
   "outputs": [],
   "source": [
    "def process_data(file):\n",
    "    # dataframe of [event ID, process ID, weight]\n",
    "    df = pd.read_csv(file, sep=';', header=None, usecols=range(0, 5))\n",
    "    df.columns = ['event_id', 'process_id', 'event_weight', 'MET', 'METphi']\n",
    "\n",
    "    f = open(file, \"r\")\n",
    "    data = []\n",
    "\n",
    "    for line in f.readlines():\n",
    "        # append MET and METphi\n",
    "        met_fs = np.array(line.split(';')[3:5])\n",
    "\n",
    "        # append low-level features\n",
    "        low_level = [x for x in line.split(';')[5:-1]]\n",
    "        low_lvl_fs = np.array([x.split(',')[1:] for x in low_level]).reshape(-1)\n",
    "        features = np.concatenate((met_fs, low_lvl_fs))\n",
    "\n",
    "        data.append(features)\n",
    "\n",
    "    max_length = np.max([len(x) for x in data])\n",
    "\n",
    "    \n",
    "\n",
    "    return data, df"
   ]
  },
  {
   "cell_type": "code",
   "execution_count": 18,
   "metadata": {},
   "outputs": [],
   "source": [
    "data, df = process_data('TrainingValidationData_200k_shuffle.csv')"
   ]
  },
  {
   "cell_type": "code",
   "execution_count": 19,
   "metadata": {},
   "outputs": [
    {
     "data": {
      "text/html": [
       "<div>\n",
       "<style scoped>\n",
       "    .dataframe tbody tr th:only-of-type {\n",
       "        vertical-align: middle;\n",
       "    }\n",
       "\n",
       "    .dataframe tbody tr th {\n",
       "        vertical-align: top;\n",
       "    }\n",
       "\n",
       "    .dataframe thead th {\n",
       "        text-align: right;\n",
       "    }\n",
       "</style>\n",
       "<table border=\"1\" class=\"dataframe\">\n",
       "  <thead>\n",
       "    <tr style=\"text-align: right;\">\n",
       "      <th></th>\n",
       "      <th>event_id</th>\n",
       "      <th>process_id</th>\n",
       "      <th>event_weight</th>\n",
       "      <th>MET</th>\n",
       "      <th>METphi</th>\n",
       "    </tr>\n",
       "  </thead>\n",
       "  <tbody>\n",
       "    <tr>\n",
       "      <th>0</th>\n",
       "      <td>21</td>\n",
       "      <td>ttbarW</td>\n",
       "      <td>7.005800e-06</td>\n",
       "      <td>56339.80</td>\n",
       "      <td>-1.526640</td>\n",
       "    </tr>\n",
       "    <tr>\n",
       "      <th>1</th>\n",
       "      <td>21</td>\n",
       "      <td>ttbarW</td>\n",
       "      <td>7.005800e-06</td>\n",
       "      <td>23717.10</td>\n",
       "      <td>2.662630</td>\n",
       "    </tr>\n",
       "    <tr>\n",
       "      <th>2</th>\n",
       "      <td>30</td>\n",
       "      <td>4top</td>\n",
       "      <td>1.930000e-07</td>\n",
       "      <td>112393.00</td>\n",
       "      <td>-1.130090</td>\n",
       "    </tr>\n",
       "    <tr>\n",
       "      <th>3</th>\n",
       "      <td>57</td>\n",
       "      <td>ttbarHiggs</td>\n",
       "      <td>2.068090e-05</td>\n",
       "      <td>26003.00</td>\n",
       "      <td>1.635830</td>\n",
       "    </tr>\n",
       "    <tr>\n",
       "      <th>4</th>\n",
       "      <td>21</td>\n",
       "      <td>ttbarW</td>\n",
       "      <td>7.005800e-06</td>\n",
       "      <td>20312.20</td>\n",
       "      <td>-1.355550</td>\n",
       "    </tr>\n",
       "    <tr>\n",
       "      <th>...</th>\n",
       "      <td>...</td>\n",
       "      <td>...</td>\n",
       "      <td>...</td>\n",
       "      <td>...</td>\n",
       "      <td>...</td>\n",
       "    </tr>\n",
       "    <tr>\n",
       "      <th>199995</th>\n",
       "      <td>21</td>\n",
       "      <td>ttbarZ</td>\n",
       "      <td>1.174310e-05</td>\n",
       "      <td>11712.80</td>\n",
       "      <td>0.578991</td>\n",
       "    </tr>\n",
       "    <tr>\n",
       "      <th>199996</th>\n",
       "      <td>21</td>\n",
       "      <td>4top</td>\n",
       "      <td>1.931550e-07</td>\n",
       "      <td>83450.60</td>\n",
       "      <td>2.129160</td>\n",
       "    </tr>\n",
       "    <tr>\n",
       "      <th>199997</th>\n",
       "      <td>21</td>\n",
       "      <td>ttbar</td>\n",
       "      <td>1.677790e-03</td>\n",
       "      <td>81674.50</td>\n",
       "      <td>-0.644498</td>\n",
       "    </tr>\n",
       "    <tr>\n",
       "      <th>199998</th>\n",
       "      <td>21</td>\n",
       "      <td>ttbarZ</td>\n",
       "      <td>1.174310e-05</td>\n",
       "      <td>103373.00</td>\n",
       "      <td>2.658260</td>\n",
       "    </tr>\n",
       "    <tr>\n",
       "      <th>199999</th>\n",
       "      <td>21</td>\n",
       "      <td>ttbar</td>\n",
       "      <td>1.677790e-03</td>\n",
       "      <td>8495.83</td>\n",
       "      <td>-0.324826</td>\n",
       "    </tr>\n",
       "  </tbody>\n",
       "</table>\n",
       "<p>200000 rows × 5 columns</p>\n",
       "</div>"
      ],
      "text/plain": [
       "        event_id  process_id  event_weight        MET    METphi\n",
       "0             21      ttbarW  7.005800e-06   56339.80 -1.526640\n",
       "1             21      ttbarW  7.005800e-06   23717.10  2.662630\n",
       "2             30        4top  1.930000e-07  112393.00 -1.130090\n",
       "3             57  ttbarHiggs  2.068090e-05   26003.00  1.635830\n",
       "4             21      ttbarW  7.005800e-06   20312.20 -1.355550\n",
       "...          ...         ...           ...        ...       ...\n",
       "199995        21      ttbarZ  1.174310e-05   11712.80  0.578991\n",
       "199996        21        4top  1.931550e-07   83450.60  2.129160\n",
       "199997        21       ttbar  1.677790e-03   81674.50 -0.644498\n",
       "199998        21      ttbarZ  1.174310e-05  103373.00  2.658260\n",
       "199999        21       ttbar  1.677790e-03    8495.83 -0.324826\n",
       "\n",
       "[200000 rows x 5 columns]"
      ]
     },
     "execution_count": 19,
     "metadata": {},
     "output_type": "execute_result"
    }
   ],
   "source": [
    "df"
   ]
  },
  {
   "cell_type": "code",
   "execution_count": 29,
   "metadata": {},
   "outputs": [],
   "source": [
    "num_processes = [(len(x)-2)/4 for x in data]\n",
    "df['num_processes'] = num_processes"
   ]
  },
  {
   "cell_type": "markdown",
   "metadata": {},
   "source": [
    "## Data\n",
    "\n",
    "The number of processes per event is distrubuted as follows:"
   ]
  },
  {
   "cell_type": "code",
   "execution_count": 35,
   "metadata": {},
   "outputs": [
    {
     "data": {
      "image/png": "[encoded data removed]",
      "text/plain": [
       "<Figure size 432x288 with 1 Axes>"
      ]
     },
     "metadata": {},
     "output_type": "display_data"
    }
   ],
   "source": [
    "df.hist('num_processes', bins=20)\n",
    "plt.title('Histogram of distribution of the number of processes per event')\n",
    "plt.xlabel('number of processes')\n",
    "plt.ylabel('count')\n",
    "plt.show()"
   ]
  },
  {
   "cell_type": "code",
   "execution_count": 31,
   "metadata": {},
   "outputs": [
    {
     "data": {
      "text/html": [
       "<div>\n",
       "<style scoped>\n",
       "    .dataframe tbody tr th:only-of-type {\n",
       "        vertical-align: middle;\n",
       "    }\n",
       "\n",
       "    .dataframe tbody tr th {\n",
       "        vertical-align: top;\n",
       "    }\n",
       "\n",
       "    .dataframe thead th {\n",
       "        text-align: right;\n",
       "    }\n",
       "</style>\n",
       "<table border=\"1\" class=\"dataframe\">\n",
       "  <thead>\n",
       "    <tr style=\"text-align: right;\">\n",
       "      <th></th>\n",
       "      <th>event_id</th>\n",
       "      <th>event_weight</th>\n",
       "      <th>MET</th>\n",
       "      <th>METphi</th>\n",
       "      <th>num_processes</th>\n",
       "    </tr>\n",
       "  </thead>\n",
       "  <tbody>\n",
       "    <tr>\n",
       "      <th>count</th>\n",
       "      <td>200000.000000</td>\n",
       "      <td>2.000000e+05</td>\n",
       "      <td>2.000000e+05</td>\n",
       "      <td>200000.000000</td>\n",
       "      <td>200000.000000</td>\n",
       "    </tr>\n",
       "    <tr>\n",
       "      <th>mean</th>\n",
       "      <td>27.910140</td>\n",
       "      <td>2.147486e-04</td>\n",
       "      <td>9.470143e+04</td>\n",
       "      <td>-0.002951</td>\n",
       "      <td>7.857255</td>\n",
       "    </tr>\n",
       "    <tr>\n",
       "      <th>std</th>\n",
       "      <td>12.163571</td>\n",
       "      <td>5.530224e-04</td>\n",
       "      <td>8.427376e+04</td>\n",
       "      <td>1.814057</td>\n",
       "      <td>2.361308</td>\n",
       "    </tr>\n",
       "    <tr>\n",
       "      <th>min</th>\n",
       "      <td>21.000000</td>\n",
       "      <td>1.930000e-07</td>\n",
       "      <td>3.085530e+01</td>\n",
       "      <td>-3.141490</td>\n",
       "      <td>0.000000</td>\n",
       "    </tr>\n",
       "    <tr>\n",
       "      <th>25%</th>\n",
       "      <td>21.000000</td>\n",
       "      <td>1.931163e-07</td>\n",
       "      <td>3.666885e+04</td>\n",
       "      <td>-1.568865</td>\n",
       "      <td>6.000000</td>\n",
       "    </tr>\n",
       "    <tr>\n",
       "      <th>50%</th>\n",
       "      <td>21.000000</td>\n",
       "      <td>3.599478e-06</td>\n",
       "      <td>7.038935e+04</td>\n",
       "      <td>-0.005540</td>\n",
       "      <td>8.000000</td>\n",
       "    </tr>\n",
       "    <tr>\n",
       "      <th>75%</th>\n",
       "      <td>30.000000</td>\n",
       "      <td>1.397012e-05</td>\n",
       "      <td>1.257315e+05</td>\n",
       "      <td>1.572653</td>\n",
       "      <td>9.000000</td>\n",
       "    </tr>\n",
       "    <tr>\n",
       "      <th>max</th>\n",
       "      <td>69.000000</td>\n",
       "      <td>1.677790e-03</td>\n",
       "      <td>1.291450e+06</td>\n",
       "      <td>3.141570</td>\n",
       "      <td>19.000000</td>\n",
       "    </tr>\n",
       "  </tbody>\n",
       "</table>\n",
       "</div>"
      ],
      "text/plain": [
       "            event_id  event_weight           MET         METphi  num_processes\n",
       "count  200000.000000  2.000000e+05  2.000000e+05  200000.000000  200000.000000\n",
       "mean       27.910140  2.147486e-04  9.470143e+04      -0.002951       7.857255\n",
       "std        12.163571  5.530224e-04  8.427376e+04       1.814057       2.361308\n",
       "min        21.000000  1.930000e-07  3.085530e+01      -3.141490       0.000000\n",
       "25%        21.000000  1.931163e-07  3.666885e+04      -1.568865       6.000000\n",
       "50%        21.000000  3.599478e-06  7.038935e+04      -0.005540       8.000000\n",
       "75%        30.000000  1.397012e-05  1.257315e+05       1.572653       9.000000\n",
       "max        69.000000  1.677790e-03  1.291450e+06       3.141570      19.000000"
      ]
     },
     "execution_count": 31,
     "metadata": {},
     "output_type": "execute_result"
    }
   ],
   "source": [
    "df.describe()"
   ]
  },
  {
   "cell_type": "markdown",
   "metadata": {},
   "source": [
    "Let's have a look at the number of processes per class"
   ]
  },
  {
   "cell_type": "code",
   "execution_count": 64,
   "metadata": {},
   "outputs": [
    {
     "data": {
      "text/html": [
       "<div>\n",
       "<style scoped>\n",
       "    .dataframe tbody tr th:only-of-type {\n",
       "        vertical-align: middle;\n",
       "    }\n",
       "\n",
       "    .dataframe tbody tr th {\n",
       "        vertical-align: top;\n",
       "    }\n",
       "\n",
       "    .dataframe thead th {\n",
       "        text-align: right;\n",
       "    }\n",
       "</style>\n",
       "<table border=\"1\" class=\"dataframe\">\n",
       "  <thead>\n",
       "    <tr style=\"text-align: right;\">\n",
       "      <th></th>\n",
       "      <th>mean</th>\n",
       "      <th>sum</th>\n",
       "      <th>count</th>\n",
       "    </tr>\n",
       "    <tr>\n",
       "      <th>process_id</th>\n",
       "      <th></th>\n",
       "      <th></th>\n",
       "      <th></th>\n",
       "    </tr>\n",
       "  </thead>\n",
       "  <tbody>\n",
       "    <tr>\n",
       "      <th>4top</th>\n",
       "      <td>9.36150</td>\n",
       "      <td>936150.0</td>\n",
       "      <td>100000</td>\n",
       "    </tr>\n",
       "    <tr>\n",
       "      <th>ttbar</th>\n",
       "      <td>5.65744</td>\n",
       "      <td>141436.0</td>\n",
       "      <td>25000</td>\n",
       "    </tr>\n",
       "    <tr>\n",
       "      <th>ttbarHiggs</th>\n",
       "      <td>7.04528</td>\n",
       "      <td>176132.0</td>\n",
       "      <td>25000</td>\n",
       "    </tr>\n",
       "    <tr>\n",
       "      <th>ttbarW</th>\n",
       "      <td>6.08428</td>\n",
       "      <td>152107.0</td>\n",
       "      <td>25000</td>\n",
       "    </tr>\n",
       "    <tr>\n",
       "      <th>ttbarZ</th>\n",
       "      <td>6.62504</td>\n",
       "      <td>165626.0</td>\n",
       "      <td>25000</td>\n",
       "    </tr>\n",
       "  </tbody>\n",
       "</table>\n",
       "</div>"
      ],
      "text/plain": [
       "               mean       sum   count\n",
       "process_id                           \n",
       "4top        9.36150  936150.0  100000\n",
       "ttbar       5.65744  141436.0   25000\n",
       "ttbarHiggs  7.04528  176132.0   25000\n",
       "ttbarW      6.08428  152107.0   25000\n",
       "ttbarZ      6.62504  165626.0   25000"
      ]
     },
     "execution_count": 64,
     "metadata": {},
     "output_type": "execute_result"
    }
   ],
   "source": [
    "grouped = (df.groupby(['process_id'])[ 'num_processes']\n",
    " .agg(['mean', 'sum', 'count']))\n",
    "\n",
    "#grouped['ratio'] = grouped['sum']/grouped['count']\n",
    "grouped"
   ]
  },
  {
   "cell_type": "code",
   "execution_count": 69,
   "metadata": {},
   "outputs": [
    {
     "data": {
      "text/plain": [
       "<matplotlib.axes._subplots.AxesSubplot at 0x165c6c8fa08>"
      ]
     },
     "execution_count": 69,
     "metadata": {},
     "output_type": "execute_result"
    },
    {
     "data": {
      "image/png": "[encoded data removed]",
      "text/plain": [
       "<Figure size 432x288 with 1 Axes>"
      ]
     },
     "metadata": {},
     "output_type": "display_data"
    }
   ],
   "source": [
    "grouped.reset_index().plot.bar(x='process_id', y='sum')"
   ]
  }
 ],
 "metadata": {
  "kernelspec": {
   "display_name": "Python 3",
   "language": "python",
   "name": "python3"
  },
  "language_info": {
   "codemirror_mode": {
    "name": "ipython",
    "version": 3
   },
   "file_extension": ".py",
   "mimetype": "text/x-python",
   "name": "python",
   "nbconvert_exporter": "python",
   "pygments_lexer": "ipython3",
   "version": "3.7.6"
  }
 },
 "nbformat": 4,
 "nbformat_minor": 4
}
